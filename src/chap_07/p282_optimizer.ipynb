{
 "cells": [
  {
   "cell_type": "markdown",
   "metadata": {},
   "source": [
    "#### 옵티마이저 성능 비교"
   ]
  },
  {
   "cell_type": "code",
   "execution_count": null,
   "metadata": {},
   "outputs": [],
   "source": [
    "import matplotlib.pyplot as plt\n",
    "import tensorflow as tf"
   ]
  },
  {
   "cell_type": "code",
   "execution_count": null,
   "metadata": {},
   "outputs": [],
   "source": [
    "(train_images, train_labels), (test_images, test_labels) = tf.keras.datasets.mnist.load_data()\n",
    "\n",
    "print(train_images.shape)\n",
    "print(train_labels)\n",
    "\n",
    "print(test_images.shape)\n",
    "\n",
    "# plt.imshow(train_images[0], cmap=\"Greys\")"
   ]
  },
  {
   "cell_type": "code",
   "execution_count": null,
   "metadata": {},
   "outputs": [],
   "source": [
    "model = tf.keras.models.Sequential()\n",
    "\n",
    "model.add(tf.keras.layers.Dense(512, activation='relu', input_shape=(784,)))\n",
    "model.add(tf.keras.layers.Dense(10, activation='sigmoid'))"
   ]
  },
  {
   "cell_type": "markdown",
   "metadata": {},
   "source": [
    "방법을 바꾸어 가면서 옵티마이저 성능을 비교해보자."
   ]
  },
  {
   "cell_type": "code",
   "execution_count": null,
   "metadata": {},
   "outputs": [],
   "source": [
    "# SGD, rmsprop, Adam, Adadelta, Adagrad\n",
    "model.compile(optimizer='rmsprop',   \n",
    "                loss='mse',\n",
    "                metrics=['accuracy'])   "
   ]
  },
  {
   "cell_type": "code",
   "execution_count": null,
   "metadata": {},
   "outputs": [],
   "source": [
    "train_images = train_images.reshape((60000, 784))\n",
    "train_images = train_images.astype('float32') / 255.0\n",
    "\n",
    "test_images = test_images.reshape((10000, 784))\n",
    "test_images = test_images.astype('float32') / 255.0\n",
    "\n",
    "train_labels = tf.keras.utils.to_categorical(train_labels)\n",
    "test_labels = tf.keras.utils.to_categorical(test_labels)"
   ]
  },
  {
   "cell_type": "code",
   "execution_count": null,
   "metadata": {},
   "outputs": [],
   "source": [
    "model.fit(train_images, train_labels, epochs=5, batch_size=128)"
   ]
  },
  {
   "cell_type": "code",
   "execution_count": null,
   "metadata": {},
   "outputs": [],
   "source": [
    "# test_loss, test_acc = model.evaluate(test_images, test_labels)\n",
    "# print('테스트 정확도:', test_acc)\n",
    "\n",
    "# history = model.fit(train_images, train_labels, epochs=5, batch_size=128)\n",
    "# loss = history.history['loss']\n",
    "# acc = history.history['accuracy']\n",
    "# epochs = range(1, len(loss)+1)\n",
    "\n",
    "# plt.plot(epochs, loss, 'b', label='Training Loss')\n",
    "# plt.plot(epochs, acc, 'r', label='Accuracy')\n",
    "# plt.xlabel('epochs')\n",
    "# plt.ylabel('loss/acc')\n",
    "# plt.show()\n",
    "\n",
    "# # 직접 필기체로 테스트 해보기\n",
    "# # OpenCV 설치 - pip install opencv-python\n",
    "# import cv2 as cv\n",
    "\n",
    "# image = cv.imread('test.png', cv.IMREAD_GRAYSCALE)\n",
    "# #image = cv.imread('test.jpg', cv.IMREAD_GRAYSCALE)\n",
    "\n",
    "# image = cv.resize(image, (28, 28))\n",
    "# image = image.astype('float32')\n",
    "# image = image.reshape(1, 784)\n",
    "# image = 255-image\n",
    "# image /= 255.0\n",
    "\n",
    "# plt.imshow(image.reshape(28, 28),cmap='Greys')\n",
    "# plt.show()\n",
    "\n",
    "# pred = model.predict(image.reshape(1, 784), batch_size=1)\n",
    "# print(\"추정된 숫자=\", pred.argmax())"
   ]
  }
 ],
 "metadata": {
  "kernelspec": {
   "display_name": "Python 3",
   "language": "python",
   "name": "python3"
  },
  "language_info": {
   "codemirror_mode": {
    "name": "ipython",
    "version": 3
   },
   "file_extension": ".py",
   "mimetype": "text/x-python",
   "name": "python",
   "nbconvert_exporter": "python",
   "pygments_lexer": "ipython3",
   "version": "3.11.4"
  },
  "orig_nbformat": 4
 },
 "nbformat": 4,
 "nbformat_minor": 2
}
