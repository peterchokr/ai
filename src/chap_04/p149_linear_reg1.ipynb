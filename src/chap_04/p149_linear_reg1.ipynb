{
 "cells": [
  {
   "cell_type": "markdown",
   "metadata": {},
   "source": [
    " ### y = Wx + b"
   ]
  },
  {
   "cell_type": "code",
   "execution_count": null,
   "metadata": {},
   "outputs": [],
   "source": [
    "import numpy as np\n",
    "import matplotlib.pyplot as plt"
   ]
  },
  {
   "cell_type": "code",
   "execution_count": null,
   "metadata": {},
   "outputs": [],
   "source": [
    "X = np.array([0.0, 1.0, 2.0])\n",
    "y = np.array([3.0, 3.5, 5.5])\n",
    "\n",
    "w = 0       # 기울기\n",
    "b = 0       # 절편\n",
    "\n",
    "lrate = 0.01  # 학습률(한번에 기울기를 변경하는 양)\n",
    "epochs = 1000  # 반복 횟수\n",
    "\n",
    "n = float(len(X)) # 입력 데이터의 개수"
   ]
  },
  {
   "cell_type": "code",
   "execution_count": null,
   "metadata": {},
   "outputs": [],
   "source": [
    "# 경사 하강법\n",
    "for i in range(epochs): \n",
    "    y_pred = w*X + b  \t\t\t# 선형 회귀 예측값\n",
    "    dw = (2/n) * sum(X * (y_pred-y)) \t# 넘파이 배열간의 산술 계산은 요소별로 적용\n",
    "    db = (2/n) * sum(y_pred-y)  \t# sum()은 모든 요소들의 합을 계산하는 내장 함수\n",
    "    w = w - lrate * dw  \t\t# 기울기 수정\n",
    "    b = b - lrate * db  \t\t# 절편 수정"
   ]
  },
  {
   "cell_type": "code",
   "execution_count": null,
   "metadata": {},
   "outputs": [],
   "source": [
    "# 기울기와 절편을 출력한다. \n",
    "print(w, b)"
   ]
  },
  {
   "cell_type": "code",
   "execution_count": null,
   "metadata": {},
   "outputs": [],
   "source": [
    "# 예측값을 만든다.\n",
    "y_pred = w*X + b"
   ]
  },
  {
   "cell_type": "code",
   "execution_count": null,
   "metadata": {},
   "outputs": [],
   "source": [
    "# 입력 데이터를 그래프 상에 찍는다. \n",
    "plt.scatter(X, y) \n",
    "\n",
    "# 예측값은 선그래프로 그린다. \n",
    "plt.plot([min(X), max(X)], [min(y_pred), max(y_pred)], color='red')\n",
    "plt.show()"
   ]
  }
 ],
 "metadata": {
  "kernelspec": {
   "display_name": "Python 3",
   "language": "python",
   "name": "python3"
  },
  "language_info": {
   "codemirror_mode": {
    "name": "ipython",
    "version": 3
   },
   "file_extension": ".py",
   "mimetype": "text/x-python",
   "name": "python",
   "nbconvert_exporter": "python",
   "pygments_lexer": "ipython3",
   "version": "3.11.4"
  },
  "orig_nbformat": 4
 },
 "nbformat": 4,
 "nbformat_minor": 2
}
