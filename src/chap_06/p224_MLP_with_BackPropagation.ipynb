{
 "cells": [
  {
   "cell_type": "markdown",
   "metadata": {},
   "source": [
    "### 넘파이를 이용한 MLP 구현(역전파 기능 추가)"
   ]
  },
  {
   "cell_type": "markdown",
   "metadata": {},
   "source": [
    "순방향 전파(p201 코드와 동일)"
   ]
  },
  {
   "cell_type": "code",
   "execution_count": null,
   "metadata": {},
   "outputs": [],
   "source": [
    "import numpy as np\n",
    "\n",
    "# 시그모이드 함수\n",
    "def actf(x):\n",
    "\treturn 1/(1+np.exp(-x))\n",
    "\n",
    "# 시그모이드 함수의 미분치\n",
    "def actf_deriv(x):\n",
    "\t    return x*(1-x)\n",
    "\n",
    "# 입력 유닛의 개수, 은닉 유닛의 개수, 출력 유닛의 개수\n",
    "inputs, hiddens, outputs = 2, 2, 1\n",
    "learning_rate=0.2\n",
    "\n",
    "# 훈련 샘플과 정답\n",
    "X = np.array([[0, 0], [0, 1], [1, 0], [1, 1]])\n",
    "T = np.array([[1], [0], [0], [1]])\n",
    "\n",
    "W1 = np.array([[0.10,0.20], [0.30,0.40]])\n",
    "W2 = np.array([[0.50],[0.60]])\n",
    "B1 = np.array([0.1, 0.2])\n",
    "B2 = np.array([0.3])   \n",
    "\n",
    "# W1 = 2*np.random.random((inputs, hiddens)) - 1   \n",
    "# W2 = 2*np.random.random((hiddens, outputs)) - 1   \n",
    "# B1 = np.zeros(hiddens)   \n",
    "# B2 = np.zeros(outputs)\n",
    "\n",
    "# 순방향 전파 계산\n",
    "def predict(x):\n",
    "        layer0 = x\t\t\t# 입력을 layer0에 대입한다. \n",
    "        Z1 = np.dot(layer0, W1)+B1\t# 행렬의 곱을 계산한다. \n",
    "        layer1 = actf(Z1)\t\t# 활성화 함수를 적용한다. \n",
    "        Z2 = np.dot(layer1, W2)+B2\t# 행렬의 곱을 계산한다. \n",
    "        layer2 = actf(Z2)\t\t# 활성화 함수를 적용한다. \n",
    "        return layer0, layer1, layer2"
   ]
  },
  {
   "cell_type": "markdown",
   "metadata": {},
   "source": [
    "역방향 전파 계산"
   ]
  },
  {
   "cell_type": "code",
   "execution_count": null,
   "metadata": {},
   "outputs": [],
   "source": [
    "def fit():\n",
    "    global W1, W2, B1, B2\t\t# 우리는 외부에 정의된 변수를 변경해야 한다. \n",
    "    cnt = 0\n",
    "    for i in range(90000):\t\t# 9만번 반복한다. \n",
    "        for x, y in zip(X, T):\t\t# 학습 샘플을 하나씩 꺼낸다. \n",
    "            x = np.reshape(x, (1, -1))\t# 2차원 행렬로 만든다. ①\n",
    "            y = np.reshape(y, (1, -1))\t# 2차원 행렬로 만든다. \n",
    "\n",
    "            layer0, layer1, layer2 = predict(x)\t\t\t# 순방향 계산\n",
    "            layer2_error = layer2-y\t\t\t\t# 오차 계산\n",
    "            layer2_delta = layer2_error*actf_deriv(layer2)\t# 출력층의 델타 계산 \n",
    "            layer1_error = np.dot(layer2_delta, W2.T)\t\t# 은닉층의 오차 계산 ②\n",
    "            layer1_delta = layer1_error*actf_deriv(layer1)\t# 은닉층의 델타 계산 ③\n",
    "            \n",
    "            W2 += -learning_rate*np.dot(layer1.T, layer2_delta)\t# ④\n",
    "            W1 += -learning_rate*np.dot(layer0.T, layer1_delta)\t# \n",
    "            B2 += -learning_rate*np.sum(layer2_delta, axis=0)\t# ⑤\n",
    "            B1 += -learning_rate*np.sum(layer1_delta, axis=0)\t# \n",
    "            \n",
    "            cnt += 1\n",
    "            if cnt % 3000 == 0 :    # 3000번에 한번씩 출력\n",
    "                print(W1, W2, B1, B2)"
   ]
  },
  {
   "cell_type": "code",
   "execution_count": null,
   "metadata": {},
   "outputs": [],
   "source": [
    "def test():\n",
    "    for x, y in zip(X, T):\n",
    "        x = np.reshape(x, (1, -1))\t# 하나의 샘플을 꺼내서 2차원 행렬로 만든다. \n",
    "        layer0, layer1, layer2 = predict(x)\n",
    "        print(x, y, layer2)\t\t# 출력층의 값을 출력해본다. "
   ]
  },
  {
   "cell_type": "code",
   "execution_count": null,
   "metadata": {},
   "outputs": [],
   "source": [
    "fit()"
   ]
  },
  {
   "cell_type": "code",
   "execution_count": null,
   "metadata": {},
   "outputs": [],
   "source": [
    "test()"
   ]
  },
  {
   "cell_type": "markdown",
   "metadata": {},
   "source": [
    "도전문제 (3)   \n",
    "XOR, OR, AND 연산도 학습시켜 본다.   \n",
    "T를 바꾸어 보자. 거기에 맞는 오차역전파를 수행하여 W1, W2, B1, B2를 구하는 것을 확인할 수 있다."
   ]
  },
  {
   "cell_type": "markdown",
   "metadata": {},
   "source": [
    "도전문제 (6)   \n",
    "가중치를 -1.0에서 1.0 사이로 난수로 초기화하여 실행해보자.   \n",
    "W1 = 2*np.random.random((inputs, hiddens)) - 1   \n",
    "W2 = 2*np.random.random((hiddens, outputs)) - 1   \n",
    "B1 = np.zeros(hiddens)   \n",
    "B2 = np.zeros(outputs)"
   ]
  }
 ],
 "metadata": {
  "kernelspec": {
   "display_name": "Python 3",
   "language": "python",
   "name": "python3"
  },
  "language_info": {
   "codemirror_mode": {
    "name": "ipython",
    "version": 3
   },
   "file_extension": ".py",
   "mimetype": "text/x-python",
   "name": "python",
   "nbconvert_exporter": "python",
   "pygments_lexer": "ipython3",
   "version": "3.11.4"
  },
  "orig_nbformat": 4
 },
 "nbformat": 4,
 "nbformat_minor": 2
}
