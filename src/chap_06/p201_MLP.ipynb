{
 "cells": [
  {
   "cell_type": "markdown",
   "metadata": {},
   "source": [
    "### MLP 순방향 전파"
   ]
  },
  {
   "cell_type": "code",
   "execution_count": null,
   "metadata": {},
   "outputs": [],
   "source": [
    "import numpy as np"
   ]
  },
  {
   "cell_type": "markdown",
   "metadata": {},
   "source": [
    "활성화 함수로 시그모이드 함수를 사용"
   ]
  },
  {
   "cell_type": "code",
   "execution_count": null,
   "metadata": {},
   "outputs": [],
   "source": [
    "def actf(x):\n",
    "\treturn 1/(1+np.exp(-x))"
   ]
  },
  {
   "cell_type": "markdown",
   "metadata": {},
   "source": [
    "입력과 출력을 넘파이 배열로 정의하고 가중치와 바이어스를 초기화"
   ]
  },
  {
   "cell_type": "code",
   "execution_count": null,
   "metadata": {},
   "outputs": [],
   "source": [
    "X = np.array([[0, 0], [0, 1], [1, 0], [1, 1]])\n",
    "T = np.array([[0], [1], [1], [0]])\n",
    "\n",
    "W1 = np.array([[0.10, 0.20],\n",
    "                 [0.30, 0.40]])\n",
    "W2 = np.array([[0.50], [0.60]])\n",
    "B1 = np.array([0.1, 0.2])\n",
    "B2 = np.array([0.3])  "
   ]
  },
  {
   "cell_type": "markdown",
   "metadata": {},
   "source": [
    "순방향 계산을 수행"
   ]
  },
  {
   "cell_type": "code",
   "execution_count": null,
   "metadata": {},
   "outputs": [],
   "source": [
    "def predict(x):\n",
    "        layer0 = x\t\t\t# 입력을 layer0에 대입한다. \n",
    "        Z1 = np.dot(layer0, W1)+B1\t# 행렬의 곱을 계산한다. \n",
    "        layer1 = actf(Z1)\t\t# 활성화 함수를 적용한다. \n",
    "        Z2 = np.dot(layer1, W2)+B2\t# 행렬의 곱을 계산한다. \n",
    "        layer2 = actf(Z2)\t\t# 활성화 함수를 적용한다. \n",
    "        return layer0, layer1, layer2"
   ]
  },
  {
   "cell_type": "code",
   "execution_count": null,
   "metadata": {},
   "outputs": [],
   "source": [
    "def test():\n",
    "    for x, y in zip(X, T):\n",
    "        x = np.reshape(x, (1, -1))\t# x를 2차원 행렬로 만든다. 입력은 2차원이어야 한다.\n",
    "        print(x)   # x를 하나씩(1행2열) 가져오는 것을 확인할 수 있다.\n",
    "        layer0, layer1, layer2 = predict(x)\n",
    "        print(x, y, layer1, layer2)"
   ]
  },
  {
   "cell_type": "code",
   "execution_count": null,
   "metadata": {},
   "outputs": [],
   "source": [
    "# 순방향으로만 학습한 결과는 XOR와 같지 않음을 알 수 있다.\n",
    "test()   "
   ]
  }
 ],
 "metadata": {
  "kernelspec": {
   "display_name": "Python 3",
   "language": "python",
   "name": "python3"
  },
  "language_info": {
   "codemirror_mode": {
    "name": "ipython",
    "version": 3
   },
   "file_extension": ".py",
   "mimetype": "text/x-python",
   "name": "python",
   "nbconvert_exporter": "python",
   "pygments_lexer": "ipython3",
   "version": "3.11.4"
  },
  "orig_nbformat": 4
 },
 "nbformat": 4,
 "nbformat_minor": 2
}
