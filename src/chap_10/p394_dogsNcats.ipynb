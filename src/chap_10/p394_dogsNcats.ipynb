{
 "cells": [
  {
   "cell_type": "markdown",
   "metadata": {},
   "source": [
    "### CNN을 이용하여 강아지와 고양이 구별하기"
   ]
  },
  {
   "cell_type": "markdown",
   "metadata": {},
   "source": [
    "라이브러리 설치와 이미지출력"
   ]
  },
  {
   "cell_type": "code",
   "execution_count": null,
   "metadata": {},
   "outputs": [],
   "source": [
    "# pip install pillow\n",
    "# pip install matplotlib\n",
    "\n",
    "from matplotlib import pyplot\n",
    "from matplotlib.image import imread\n",
    "\n",
    "image = imread('./Petimages/train/dog/1.jpg')\n",
    "pyplot.imshow(image)\n",
    "pyplot.show()"
   ]
  },
  {
   "cell_type": "markdown",
   "metadata": {},
   "source": [
    "CNN 모델 생성"
   ]
  },
  {
   "cell_type": "markdown",
   "metadata": {},
   "source": [
    "![Alt text](image-1.png)"
   ]
  },
  {
   "cell_type": "code",
   "execution_count": null,
   "metadata": {},
   "outputs": [],
   "source": [
    "from tensorflow.keras import models, layers\n",
    "\n",
    "train_dir = './Petimages/train'\n",
    "test_dir = './Petimages/test'\n",
    "\n",
    "model = models.Sequential()\n",
    "model.add(layers.Conv2D(32,(3,3), activation='relu', input_shape=(128,128,3)))\n",
    "model.add(layers.MaxPooling2D(2,2))\n",
    "model.add(layers.Conv2D(64,(3,3), activation='relu'))\n",
    "model.add(layers.MaxPooling2D(2,2))\n",
    "model.add(layers.Flatten())\n",
    "model.add(layers.Dense(units=512, activation='relu'))\n",
    "model.add(layers.Dense(units=1, activation='sigmoid'))\n",
    "\n",
    "model.summary()\n",
    "\n",
    "model.compile(optimizer = 'adam', loss = 'binary_crossentropy', metrics = ['accuracy'])"
   ]
  },
  {
   "cell_type": "markdown",
   "metadata": {},
   "source": [
    "이미지 전처리"
   ]
  },
  {
   "cell_type": "code",
   "execution_count": null,
   "metadata": {},
   "outputs": [],
   "source": [
    "from tensorflow.keras.preprocessing.image import ImageDataGenerator\n",
    "\n",
    "# 0에서 255사이의 픽셀값을 0.0-1.0사이의 실수 변환 등 이미지 전처리\n",
    "train_datagen = ImageDataGenerator(rescale = 1./255, shear_range = 0.2,\n",
    "  zoom_range = 0.2, horizontal_flip = True)\n",
    "\n",
    "test_datagen = ImageDataGenerator(rescale = 1./255)\n",
    "\n",
    "train_generator = train_datagen.flow_from_directory(\n",
    "    train_dir,                      \n",
    "    target_size=(128, 128), \n",
    "    batch_size=20,\n",
    "    class_mode = 'binary')\n",
    "\n",
    "test_generator = test_datagen.flow_from_directory(\n",
    "    test_dir,\n",
    "    target_size=(128, 128),\n",
    "    batch_size=20,\n",
    "    class_mode = 'binary')"
   ]
  },
  {
   "cell_type": "markdown",
   "metadata": {},
   "source": [
    "훈련\n"
   ]
  },
  {
   "cell_type": "code",
   "execution_count": null,
   "metadata": {},
   "outputs": [],
   "source": [
    "# 훈련 데이터로는 train_generator가 건네주는 데이터 사용\n",
    "# 검증 데이터로는 test_generator가 전달하는 데이터 사용\n",
    "# steps_per_epoch : 훈련에 사용할 배치의 개수. len(train) // batch_size\n",
    "# validation_steps : 테스트에 사용할 배치의 개수. len(test) // bacth_size\n",
    "history = model.fit_generator(\n",
    "    train_generator, steps_per_epoch = 100, epochs=10, \n",
    "    validation_data=test_generator, validation_steps=5)"
   ]
  },
  {
   "cell_type": "markdown",
   "metadata": {},
   "source": [
    "학습 결과 그래프 표시"
   ]
  },
  {
   "cell_type": "code",
   "execution_count": null,
   "metadata": {},
   "outputs": [],
   "source": [
    "import matplotlib.pyplot as plt\n",
    "plt.plot(history.history['accuracy'])\n",
    "plt.plot(history.history['val_accuracy'])\n",
    "plt.xlabel('Epoch')\n",
    "plt.ylabel('Accuracy')\n",
    "plt.legend(['Train', 'Test'], loc='upper left')\n",
    "plt.show()"
   ]
  },
  {
   "cell_type": "markdown",
   "metadata": {},
   "source": [
    "(추가) 다른 이미지로 테스트"
   ]
  },
  {
   "cell_type": "code",
   "execution_count": null,
   "metadata": {},
   "outputs": [],
   "source": [
    "# OpenCV 설치 - pip install opencv-python\n",
    "\n",
    "import cv2 as cv\n",
    "import matplotlib.pyplot as plt\n",
    "\n",
    "image = cv.imread('dog1.jpg')\n",
    "\n",
    "image = cv.resize(image, (128, 128))\n",
    "image = image.astype('float32')\n",
    "image = 255-image\n",
    "image /= 255.0\n",
    "\n",
    "plt.imshow(image.reshape(128, 128, 3))\n",
    "plt.show()\n",
    "\n",
    "pred = model.predict(image.reshape(1, 128, 128, 3))\n",
    "print(\"출력 : \", pred, )    # 출력은 시그모이드 값으로 나온다.\n",
    "\n",
    "if pred[0] < 0.5 :  # 데이터가 작기 때문에 모델 정확도가 높지 않음\n",
    "    print(\"강아지\")\n",
    "else : \n",
    "    print(\"고양이\")"
   ]
  }
 ],
 "metadata": {
  "kernelspec": {
   "display_name": "Python 3",
   "language": "python",
   "name": "python3"
  },
  "language_info": {
   "codemirror_mode": {
    "name": "ipython",
    "version": 3
   },
   "file_extension": ".py",
   "mimetype": "text/x-python",
   "name": "python",
   "nbconvert_exporter": "python",
   "pygments_lexer": "ipython3",
   "version": "3.11.4"
  },
  "orig_nbformat": 4
 },
 "nbformat": 4,
 "nbformat_minor": 2
}
