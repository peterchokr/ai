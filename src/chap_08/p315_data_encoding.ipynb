{
 "cells": [
  {
   "cell_type": "markdown",
   "metadata": {},
   "source": [
    "#### 1. 정수 인코딩"
   ]
  },
  {
   "cell_type": "code",
   "execution_count": 2,
   "metadata": {},
   "outputs": [
    {
     "name": "stdout",
     "output_type": "stream",
     "text": [
      "[['2' '44' '7200']\n",
      " ['1' '27' '4800']\n",
      " ['0' '30' '6100']]\n"
     ]
    }
   ],
   "source": [
    "import numpy as np\n",
    "X = np.array([['Korea', 44, 7200], \n",
    "\t\t['Japan', 27, 4800], \n",
    "\t\t['China', 30, 6100]])\n",
    "\n",
    "from sklearn.preprocessing import LabelEncoder\n",
    "labelencoder = LabelEncoder()\n",
    "X[:, 0] = labelencoder.fit_transform(X[:,0])\n",
    "print(X)"
   ]
  },
  {
   "cell_type": "markdown",
   "metadata": {},
   "source": [
    "#### 2. 원핫 인코딩(1)"
   ]
  },
  {
   "cell_type": "code",
   "execution_count": 3,
   "metadata": {},
   "outputs": [
    {
     "name": "stdout",
     "output_type": "stream",
     "text": [
      "[[0. 0. 1.]\n",
      " [0. 1. 0.]\n",
      " [1. 0. 0.]]\n",
      "[['0.0' '0.0' '1.0' '44' '7200']\n",
      " ['0.0' '1.0' '0.0' '27' '4800']\n",
      " ['1.0' '0.0' '0.0' '30' '6100']]\n"
     ]
    }
   ],
   "source": [
    "import numpy as np\n",
    "X = np.array([['Korea', 44, 7200], \n",
    "\t\t['Japan', 27, 4800], \n",
    "\t\t['China', 30, 6100]])\n",
    "\n",
    "from sklearn.preprocessing import OneHotEncoder\n",
    "onehotencoder = OneHotEncoder()\n",
    "\n",
    "# 원하는 열을 뽑아서 2차원 배열로 만들어서 전달하여야 한다. \n",
    "XX = onehotencoder.fit_transform(X[:,0].reshape(-1,1)).toarray()\n",
    "print(XX)\n",
    "\n",
    "X = np.delete(X, [0], axis=1)\t\t# 0번째 열 삭제\n",
    "X = np.concatenate((XX, X), axis = 1)\t# X와 XX를 붙인다. \n",
    "print(X)"
   ]
  },
  {
   "cell_type": "markdown",
   "metadata": {},
   "source": [
    "#### 3. 원핫 인코딩(2) - keras 사용"
   ]
  },
  {
   "cell_type": "code",
   "execution_count": 4,
   "metadata": {},
   "outputs": [
    {
     "name": "stdout",
     "output_type": "stream",
     "text": [
      "[[0 0 1 0 0 0 0]\n",
      " [0 0 0 0 0 0 1]\n",
      " [0 0 0 0 0 0 1]\n",
      " [0 1 0 0 0 0 0]]\n"
     ]
    }
   ],
   "source": [
    "class_vector =[2, 6, 6, 1]\n",
    "  \n",
    "from tensorflow.keras.utils import to_categorical\n",
    "output = to_categorical(class_vector, num_classes = 7, dtype =\"int32\")\n",
    "print(output)"
   ]
  }
 ],
 "metadata": {
  "kernelspec": {
   "display_name": "Python 3",
   "language": "python",
   "name": "python3"
  },
  "language_info": {
   "codemirror_mode": {
    "name": "ipython",
    "version": 3
   },
   "file_extension": ".py",
   "mimetype": "text/x-python",
   "name": "python",
   "nbconvert_exporter": "python",
   "pygments_lexer": "ipython3",
   "version": "3.9.13"
  },
  "orig_nbformat": 4
 },
 "nbformat": 4,
 "nbformat_minor": 2
}
