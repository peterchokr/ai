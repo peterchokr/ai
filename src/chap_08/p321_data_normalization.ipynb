{
 "cells": [
  {
   "cell_type": "markdown",
   "metadata": {},
   "source": [
    "#### 1. sklearn의 데이터정규화 방법"
   ]
  },
  {
   "cell_type": "code",
   "execution_count": null,
   "metadata": {},
   "outputs": [],
   "source": [
    "from sklearn.preprocessing import MinMaxScaler\n",
    "data = [[-1,2], [-0.5,6], [0,10], [1,18]]\n",
    "\n",
    "scaler = MinMaxScaler()\n",
    "scaler.fit(data)   #최대값과 최소값을 알아낸다\n",
    "print(scaler.transform(data))    # 0과 1사이로 데이터를 변환"
   ]
  },
  {
   "cell_type": "markdown",
   "metadata": {},
   "source": [
    "#### 2. 케라스의 데이터 정규화 방법"
   ]
  },
  {
   "cell_type": "code",
   "execution_count": null,
   "metadata": {},
   "outputs": [],
   "source": [
    "import numpy as np\n",
    "from  tensorflow.keras.layers.experimental.preprocessing import Normalization\n",
    "\n",
    "# 평균, 분산을 구하기 위해 별도 데이터 셋을 사용할 수 있다\n",
    "adapt_data = np.array([[1.], [2.], [3.], [4.], [5.]], dtype=np.float32)  \n",
    "\n",
    "# 입력값\n",
    "input_data = np.array([[1.], [2.], [3.]], np.float32)\n",
    "\n",
    "layer = Normalization() # 정규화 클래스\n",
    "layer.adapt(adapt_data)   # 평균과 분산 구하기\n",
    "\n",
    "print(layer(input_data))    # 평균, 분산을 사용하여 입력값을 정규화\n",
    "print()\n",
    "\n",
    "input_data = np.array([[1.], [2.], [3.]], np.float32)\n",
    "layer = Normalization(mean=3., variance=2.) # 평균과 분산을 직접 전달도 가능\n",
    "print(layer(input_data))"
   ]
  },
  {
   "cell_type": "markdown",
   "metadata": {},
   "source": [
    "#### p.320 예제를 정규화, 원핫 인코딩 해보기"
   ]
  },
  {
   "cell_type": "markdown",
   "metadata": {},
   "source": [
    "![Alt text](image-1.png)"
   ]
  },
  {
   "cell_type": "code",
   "execution_count": null,
   "metadata": {},
   "outputs": [],
   "source": [
    "import numpy as np\n",
    "from  tensorflow.keras.layers.experimental.preprocessing import Normalization\n",
    "\n",
    "dataset = np.array([[30., -1., 3800., -1.], [36., 1., 4200., 1.], [52., -1., 4000., -1.], [42., 1., 4400., 1.]])\n",
    "\n",
    "# 입력 데이터를 추출하여 정규화(x)\n",
    "input_data = np.array(dataset[:,0:3], dtype=np.float32)\n",
    "\n",
    "layer = Normalization()     # 정규화 클래스\n",
    "layer.adapt(input_data)   # 입력값을 이용하여 평균과 분산을 계산\n",
    "\n",
    "x = np.round(layer(input_data),2)    # 평균, 분산을 사용하여 입력값을 정규화\n",
    "print(x)   \n",
    "print()\n",
    "\n",
    "# 출력을 원핫 인코딩(y)\n",
    "from sklearn.preprocessing import OneHotEncoder\n",
    "onehotencoder = OneHotEncoder()\n",
    "\n",
    "# 출력을 추출하여 원핫 인코딩 \n",
    "y = onehotencoder.fit_transform(dataset[:,3].reshape(-1,1)).toarray()\n",
    "print(y)\n",
    "print()\n",
    "\n",
    "# 정규화, 원핫 인코딩 결과로 데이터셋 새로 구성\n",
    "dataset = np.delete(dataset, [], axis=1)\t\t# 모든 열 삭제\n",
    "dataset = np.round(np.concatenate((x, y), axis=1),2)\t# x와 y를 붙인다.(axis=1 : 행으로) \n",
    "print(dataset)"
   ]
  }
 ],
 "metadata": {
  "kernelspec": {
   "display_name": "Python 3",
   "language": "python",
   "name": "python3"
  },
  "language_info": {
   "codemirror_mode": {
    "name": "ipython",
    "version": 3
   },
   "file_extension": ".py",
   "mimetype": "text/x-python",
   "name": "python",
   "nbconvert_exporter": "python",
   "pygments_lexer": "ipython3",
   "version": "3.11.4"
  },
  "orig_nbformat": 4
 },
 "nbformat": 4,
 "nbformat_minor": 2
}
