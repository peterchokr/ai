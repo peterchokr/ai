{
 "cells": [
  {
   "cell_type": "markdown",
   "metadata": {},
   "source": [
    "#### 1. sklearn의 데이터정규화 방법"
   ]
  },
  {
   "cell_type": "code",
   "execution_count": null,
   "metadata": {},
   "outputs": [],
   "source": [
    "from sklearn.preprocessing import MinMaxScaler\n",
    "data = [[-1,2], [-0.5,6], [0,10], [1,18]]\n",
    "\n",
    "scaler = MinMaxScaler()\n",
    "scaler.fit(data)   #최대값과 최소값을 알아낸다\n",
    "print(scaler.transform(data))    #데이터를 변환한다"
   ]
  },
  {
   "cell_type": "markdown",
   "metadata": {},
   "source": [
    "#### 2. 케라스의 데이터 정규화 방법"
   ]
  },
  {
   "cell_type": "code",
   "execution_count": null,
   "metadata": {},
   "outputs": [],
   "source": [
    "import numpy as np\n",
    "from  tensorflow.keras.layers.experimental.preprocessing import Normalization\n",
    "\n",
    "adapt_data = np.array([[1.], [2.], [3.], [4.], [5.]], dtype=np.float32)\n",
    "input_data = np.array([[1.], [2.], [3.]], np.float32)\n",
    "layer = Normalization()\n",
    "layer.adapt(adapt_data)   #평균과 분산을 계산\n",
    "print(layer(input_data))\n",
    "\n",
    "input_data = np.array([[1.], [2.], [3.]], np.float32)\n",
    "layer = Normalization(mean=3., variance=2.) #평균과 분산을 직접 전달도 가능\n",
    "print(layer(input_data))"
   ]
  }
 ],
 "metadata": {
  "kernelspec": {
   "display_name": "Python 3",
   "language": "python",
   "name": "python3"
  },
  "language_info": {
   "codemirror_mode": {
    "name": "ipython",
    "version": 3
   },
   "file_extension": ".py",
   "mimetype": "text/x-python",
   "name": "python",
   "nbconvert_exporter": "python",
   "pygments_lexer": "ipython3",
   "version": "3.11.4"
  },
  "orig_nbformat": 4
 },
 "nbformat": 4,
 "nbformat_minor": 2
}
