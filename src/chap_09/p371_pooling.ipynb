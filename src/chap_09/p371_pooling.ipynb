{
 "cells": [
  {
   "cell_type": "code",
   "execution_count": 1,
   "metadata": {},
   "outputs": [],
   "source": [
    "import tensorflow as tf\n",
    "from tensorflow.keras import datasets, layers, models"
   ]
  },
  {
   "cell_type": "markdown",
   "metadata": {},
   "source": [
    "#### padding='valid'로 풀링"
   ]
  },
  {
   "cell_type": "code",
   "execution_count": 3,
   "metadata": {},
   "outputs": [
    {
     "name": "stdout",
     "output_type": "stream",
     "text": [
      "tf.Tensor(\n",
      "[[[[1.]\n",
      "   [2.]\n",
      "   [3.]]\n",
      "\n",
      "  [[4.]\n",
      "   [5.]\n",
      "   [6.]]\n",
      "\n",
      "  [[7.]\n",
      "   [8.]\n",
      "   [9.]]]], shape=(1, 3, 3, 1), dtype=float32)\n",
      "tf.Tensor(\n",
      "[[[[5.]\n",
      "   [6.]]\n",
      "\n",
      "  [[8.]\n",
      "   [9.]]]], shape=(1, 2, 2, 1), dtype=float32)\n"
     ]
    }
   ],
   "source": [
    "x = tf.constant([[1., 2., 3.], [4., 5., 6.], [7., 8., 9.]])\n",
    "x = tf.reshape(x, [1, 3, 3, 1])\n",
    "max_pool_2d = tf.keras.layers.MaxPooling2D(pool_size=(2,2), strides=(1,1), padding='valid')\n",
    "print(max_pool_2d(x))"
   ]
  },
  {
   "cell_type": "markdown",
   "metadata": {},
   "source": [
    "#### padding='same'로 풀링"
   ]
  },
  {
   "cell_type": "code",
   "execution_count": 4,
   "metadata": {},
   "outputs": [
    {
     "name": "stdout",
     "output_type": "stream",
     "text": [
      "tf.Tensor(\n",
      "[[[[5.]\n",
      "   [6.]\n",
      "   [6.]]\n",
      "\n",
      "  [[8.]\n",
      "   [9.]\n",
      "   [9.]]\n",
      "\n",
      "  [[8.]\n",
      "   [9.]\n",
      "   [9.]]]], shape=(1, 3, 3, 1), dtype=float32)\n"
     ]
    }
   ],
   "source": [
    "x = tf.constant([[1., 2., 3.], [4., 5., 6.], [7., 8., 9.]])\n",
    "x = tf.reshape(x, [1, 3, 3, 1])\n",
    "max_pool_2d = tf.keras.layers.MaxPooling2D(pool_size=(2,2), strides=(1,1), padding='same')\n",
    "print(max_pool_2d(x))"
   ]
  }
 ],
 "metadata": {
  "kernelspec": {
   "display_name": "Python 3",
   "language": "python",
   "name": "python3"
  },
  "language_info": {
   "codemirror_mode": {
    "name": "ipython",
    "version": 3
   },
   "file_extension": ".py",
   "mimetype": "text/x-python",
   "name": "python",
   "nbconvert_exporter": "python",
   "pygments_lexer": "ipython3",
   "version": "3.11.4"
  },
  "orig_nbformat": 4
 },
 "nbformat": 4,
 "nbformat_minor": 2
}
