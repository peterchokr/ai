{
 "cells": [
  {
   "cell_type": "markdown",
   "metadata": {},
   "source": [
    "### MiniProject : 퍼셉트론으로 분류"
   ]
  },
  {
   "cell_type": "markdown",
   "metadata": {},
   "source": [
    "신장과 체중을 받아서 성별을 출력하는 퍼셉트론 학습(알고리즘)   \n",
    "x1 = 학생의 신장   \n",
    "x2 = 학생의 체중   \n",
    "y = 성별(남자/여자)"
   ]
  },
  {
   "cell_type": "code",
   "execution_count": null,
   "metadata": {},
   "outputs": [],
   "source": [
    "import numpy as np"
   ]
  },
  {
   "cell_type": "code",
   "execution_count": null,
   "metadata": {},
   "outputs": [],
   "source": [
    "epsilon = 0.0000001\t\t# 부동소수점 오차 방지"
   ]
  },
  {
   "cell_type": "code",
   "execution_count": null,
   "metadata": {},
   "outputs": [],
   "source": [
    "def step_func(t):\t\t# 퍼셉트론의 활성화 함수\n",
    "    if t > epsilon: return 1\n",
    "    else: return 0"
   ]
  },
  {
   "cell_type": "code",
   "execution_count": null,
   "metadata": {},
   "outputs": [],
   "source": [
    "# 학습 데이터 세트\n",
    "X = np.array([\t\t\t\n",
    "    [160, 55, 1],\t\t\t# 맨 끝의 1은 바이어스를 위한 입력 신호 1이다. \n",
    "    [163, 43, 1],\t\t\t# 맨 끝의 1은 바이어스를 위한 입력 신호 1이다. \n",
    "    [165, 48, 1],\t\t\t# 맨 끝의 1은 바이어스를 위한 입력 신호 1이다. \n",
    "    [170, 80, 1],\t\t\t# 맨 끝의 1은 바이어스를 위한 입력 신호 1이다.     \n",
    "    [175, 76, 1],\t\t\t# 맨 끝의 1은 바이어스를 위한 입력 신호 1이다.     \n",
    "    [180, 70, 1]\t\t\t# 맨 끝의 1은 바이어스를 위한 입력 신호 1이다. \n",
    "])"
   ]
  },
  {
   "cell_type": "code",
   "execution_count": null,
   "metadata": {},
   "outputs": [],
   "source": [
    "y = np.array([0, 0, 0, 1, 1, 1])\t# 정답을 저장하는 넘파이 행렬\n",
    "W = np.zeros(len(X[0]))\t    # 가중치를 저장하는 넘파이 행렬"
   ]
  },
  {
   "cell_type": "code",
   "execution_count": null,
   "metadata": {},
   "outputs": [],
   "source": [
    "# 퍼셉트론 학습 알고리즘\n",
    "def perceptron_fit(X, Y, epochs=30):\t\n",
    "    global W\n",
    "    eta = 0.2\t\t\t\t# 학습률\n",
    "\n",
    "    for t in range(epochs):\n",
    "        print(\"epoch=\", t, \"======================\")\n",
    "        for i in range(len(X)):\n",
    "            predict = step_func(np.dot(X[i], W))\n",
    "            error = Y[i] - predict\t\t# 오차 계산\n",
    "            W += eta * error * X[i]\t\t# 가중치 업데이트\n",
    "            print(\"현재 처리 입력=\",X[i],\"정답=\",Y[i],\"출력=\",predict,\"변경된 가중치=\", W)\n",
    "        print(\"================================\")"
   ]
  },
  {
   "cell_type": "code",
   "execution_count": null,
   "metadata": {},
   "outputs": [],
   "source": [
    "# 예측\n",
    "def perceptron_predict(X, Y):\t\t\t\n",
    "    global W\n",
    "    for x in X:\n",
    "         print(x[0], x[1], \"->\", step_func(np.dot(x, W)))"
   ]
  },
  {
   "cell_type": "code",
   "execution_count": null,
   "metadata": {},
   "outputs": [],
   "source": [
    "perceptron_fit(X, y)"
   ]
  },
  {
   "cell_type": "code",
   "execution_count": null,
   "metadata": {},
   "outputs": [],
   "source": [
    "perceptron_predict(X, y)"
   ]
  },
  {
   "cell_type": "code",
   "execution_count": null,
   "metadata": {},
   "outputs": [],
   "source": [
    "# 테스트를 수행\n",
    "print(\"===\")\n",
    "perceptron_predict([[180,89,1]],0)"
   ]
  }
 ],
 "metadata": {
  "kernelspec": {
   "display_name": "Python 3",
   "language": "python",
   "name": "python3"
  },
  "language_info": {
   "codemirror_mode": {
    "name": "ipython",
    "version": 3
   },
   "file_extension": ".py",
   "mimetype": "text/x-python",
   "name": "python",
   "nbconvert_exporter": "python",
   "pygments_lexer": "ipython3",
   "version": "3.11.4"
  },
  "orig_nbformat": 4
 },
 "nbformat": 4,
 "nbformat_minor": 2
}
