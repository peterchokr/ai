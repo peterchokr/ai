{
 "cells": [
  {
   "cell_type": "markdown",
   "metadata": {},
   "source": [
    "### 삼성전자 주식 데이터로 순환신경망 학습 데이터 만들기"
   ]
  },
  {
   "cell_type": "markdown",
   "metadata": {},
   "source": [
    "라이브러리 설치"
   ]
  },
  {
   "cell_type": "code",
   "execution_count": null,
   "metadata": {},
   "outputs": [],
   "source": [
    "!pip install BeautifulSoup4\n",
    "!pip install finance-datareader"
   ]
  },
  {
   "cell_type": "markdown",
   "metadata": {},
   "source": [
    "그래프 그리기"
   ]
  },
  {
   "cell_type": "code",
   "execution_count": null,
   "metadata": {},
   "outputs": [],
   "source": [
    "import FinanceDataReader as fdr\n",
    "import numpy as np\n",
    "import matplotlib.pyplot as plt"
   ]
  },
  {
   "cell_type": "code",
   "execution_count": null,
   "metadata": {},
   "outputs": [],
   "source": [
    "# 삼성전자 코드='005930', 2020년 데이터부터 다운로드\n",
    "samsung = fdr.DataReader('005930', '2020')  \n",
    "print(samsung.head())"
   ]
  },
  {
   "cell_type": "code",
   "execution_count": null,
   "metadata": {},
   "outputs": [],
   "source": [
    "# 시작가만 취해서 시계열 데이터 생성\n",
    "seq_data = (samsung[['Open']]).to_numpy()"
   ]
  },
  {
   "cell_type": "code",
   "execution_count": null,
   "metadata": {},
   "outputs": [],
   "source": [
    "# 선형 그래프로 그린다. \n",
    "plt.plot(seq_data, color='blue')\n",
    "plt.title(\"Samsung Electronics Stock Price\")\n",
    "plt.xlabel(\"days\")\n",
    "plt.xlabel(\"\")\n",
    "plt.show()"
   ]
  },
  {
   "cell_type": "code",
   "execution_count": null,
   "metadata": {},
   "outputs": [],
   "source": [
    "# 데이터를 잘라서 학습데이터셋 구성하는 함수 정의\n",
    "def make_sample(data, window):\n",
    "    train = []\t\t\t\t\t# 공백 리스트 생성\n",
    "    target = []\n",
    "    for i in range(len(data)-window):\t\t# 데이터의 길이만큼 반복\n",
    "        train.append(data[i:i+window])\t\t# i부터 (i+window-1) 까지를 저장\n",
    "        target.append(data[i+window])\t\t# (i+window) 번째 요소는 정답\n",
    "    return np.array(train), np.array(target)\t# 훈련 샘플과 정답 레이블을 반환"
   ]
  },
  {
   "cell_type": "code",
   "execution_count": null,
   "metadata": {},
   "outputs": [],
   "source": [
    "# RNN 학습데이터 생성\n",
    "X, y = make_sample(seq_data, 7)\t\t# 윈도우 크기=7\n",
    "print(X.shape, y.shape)\t\t\t# 넘파이 배열의 형상 출력\n",
    "print(X[0], y[0])\t\t\t\t# 첫 번째 샘플 출력"
   ]
  }
 ],
 "metadata": {
  "kernelspec": {
   "display_name": "Python 3",
   "language": "python",
   "name": "python3"
  },
  "language_info": {
   "codemirror_mode": {
    "name": "ipython",
    "version": 3
   },
   "file_extension": ".py",
   "mimetype": "text/x-python",
   "name": "python",
   "nbconvert_exporter": "python",
   "pygments_lexer": "ipython3",
   "version": "3.11.4"
  },
  "orig_nbformat": 4
 },
 "nbformat": 4,
 "nbformat_minor": 2
}
