{
 "cells": [
  {
   "cell_type": "markdown",
   "metadata": {},
   "source": [
    "### DNN을 이용한 MNIST 필기체 숫자 인식\n"
   ]
  },
  {
   "cell_type": "code",
   "execution_count": 1,
   "metadata": {},
   "outputs": [
    {
     "name": "stdout",
     "output_type": "stream",
     "text": [
      "WARNING:tensorflow:From c:\\Users\\PINEAPPLE\\anaconda3\\envs\\tf\\lib\\site-packages\\keras\\src\\losses.py:2976: The name tf.losses.sparse_softmax_cross_entropy is deprecated. Please use tf.compat.v1.losses.sparse_softmax_cross_entropy instead.\n",
      "\n"
     ]
    }
   ],
   "source": [
    "import matplotlib.pyplot as plt\n",
    "import tensorflow as tf"
   ]
  },
  {
   "cell_type": "code",
   "execution_count": 2,
   "metadata": {},
   "outputs": [
    {
     "data": {
      "image/png": "[encoded data removed]",
      "text/plain": [
       "<Figure size 640x480 with 1 Axes>"
      ]
     },
     "metadata": {},
     "output_type": "display_data"
    }
   ],
   "source": [
    "mnist = tf.keras.datasets.mnist\n",
    "\n",
    "(x_train, y_train), (x_test, y_test) = mnist.load_data()\n",
    "\n",
    "plt.imshow(x_train[0])\n",
    "\n",
    "x_train, x_test = x_train / 255.0, x_test / \\\n",
    "    255.0  # 픽셀값을 0.0과 1.0 사이의 값으로 변환(정규화)"
   ]
  },
  {
   "cell_type": "code",
   "execution_count": 3,
   "metadata": {},
   "outputs": [
    {
     "name": "stdout",
     "output_type": "stream",
     "text": [
      "WARNING:tensorflow:From c:\\Users\\PINEAPPLE\\anaconda3\\envs\\tf\\lib\\site-packages\\keras\\src\\backend.py:873: The name tf.get_default_graph is deprecated. Please use tf.compat.v1.get_default_graph instead.\n",
      "\n"
     ]
    }
   ],
   "source": [
    "model = tf.keras.models.Sequential()\n",
    "model.add(tf.keras.layers.Flatten(input_shape=(28, 28)))\n",
    "model.add(tf.keras.layers.Dense(512, activation=\"relu\"))\n",
    "model.add(tf.keras.layers.Dropout(0.2))\n",
    "model.add(tf.keras.layers.Dense(10, activation=\"softmax\"))"
   ]
  },
  {
   "cell_type": "code",
   "execution_count": 4,
   "metadata": {},
   "outputs": [
    {
     "name": "stdout",
     "output_type": "stream",
     "text": [
      "WARNING:tensorflow:From c:\\Users\\PINEAPPLE\\anaconda3\\envs\\tf\\lib\\site-packages\\keras\\src\\optimizers\\__init__.py:309: The name tf.train.Optimizer is deprecated. Please use tf.compat.v1.train.Optimizer instead.\n",
      "\n"
     ]
    },
    {
     "name": "stdout",
     "output_type": "stream",
     "text": [
      "Epoch 1/30\n",
      "WARNING:tensorflow:From c:\\Users\\PINEAPPLE\\anaconda3\\envs\\tf\\lib\\site-packages\\keras\\src\\utils\\tf_utils.py:492: The name tf.ragged.RaggedTensorValue is deprecated. Please use tf.compat.v1.ragged.RaggedTensorValue instead.\n",
      "\n",
      "WARNING:tensorflow:From c:\\Users\\PINEAPPLE\\anaconda3\\envs\\tf\\lib\\site-packages\\keras\\src\\engine\\base_layer_utils.py:384: The name tf.executing_eagerly_outside_functions is deprecated. Please use tf.compat.v1.executing_eagerly_outside_functions instead.\n",
      "\n",
      "1875/1875 [==============================] - 4s 2ms/step - loss: 0.2183 - accuracy: 0.9354\n",
      "Epoch 2/30\n",
      "1875/1875 [==============================] - 4s 2ms/step - loss: 0.0970 - accuracy: 0.9702\n",
      "Epoch 3/30\n",
      "1875/1875 [==============================] - 4s 2ms/step - loss: 0.0679 - accuracy: 0.9788\n",
      "Epoch 4/30\n",
      "1875/1875 [==============================] - 4s 2ms/step - loss: 0.0531 - accuracy: 0.9835\n",
      "Epoch 5/30\n",
      "1875/1875 [==============================] - 4s 2ms/step - loss: 0.0431 - accuracy: 0.9859\n",
      "Epoch 6/30\n",
      "1875/1875 [==============================] - 4s 2ms/step - loss: 0.0354 - accuracy: 0.9885\n",
      "Epoch 7/30\n",
      "1875/1875 [==============================] - 4s 2ms/step - loss: 0.0319 - accuracy: 0.9891\n",
      "Epoch 8/30\n",
      "1875/1875 [==============================] - 4s 2ms/step - loss: 0.0273 - accuracy: 0.9908\n",
      "Epoch 9/30\n",
      "1875/1875 [==============================] - 4s 2ms/step - loss: 0.0242 - accuracy: 0.9920\n",
      "Epoch 10/30\n",
      "1875/1875 [==============================] - 4s 2ms/step - loss: 0.0228 - accuracy: 0.9922\n",
      "Epoch 11/30\n",
      "1875/1875 [==============================] - 5s 2ms/step - loss: 0.0197 - accuracy: 0.9930\n",
      "Epoch 12/30\n",
      "1875/1875 [==============================] - 4s 2ms/step - loss: 0.0182 - accuracy: 0.9937\n",
      "Epoch 13/30\n",
      "1875/1875 [==============================] - 4s 2ms/step - loss: 0.0169 - accuracy: 0.9945\n",
      "Epoch 14/30\n",
      "1875/1875 [==============================] - 5s 3ms/step - loss: 0.0172 - accuracy: 0.9941\n",
      "Epoch 15/30\n",
      "1875/1875 [==============================] - 4s 2ms/step - loss: 0.0165 - accuracy: 0.9947\n",
      "Epoch 16/30\n",
      "1875/1875 [==============================] - 4s 2ms/step - loss: 0.0163 - accuracy: 0.9948\n",
      "Epoch 17/30\n",
      "1875/1875 [==============================] - 4s 2ms/step - loss: 0.0159 - accuracy: 0.9946\n",
      "Epoch 18/30\n",
      "1875/1875 [==============================] - 4s 2ms/step - loss: 0.0129 - accuracy: 0.9957\n",
      "Epoch 19/30\n",
      "1875/1875 [==============================] - 4s 2ms/step - loss: 0.0145 - accuracy: 0.9953\n",
      "Epoch 20/30\n",
      "1875/1875 [==============================] - 4s 2ms/step - loss: 0.0125 - accuracy: 0.9961\n",
      "Epoch 21/30\n",
      "1875/1875 [==============================] - 4s 2ms/step - loss: 0.0147 - accuracy: 0.9955\n",
      "Epoch 22/30\n",
      "1875/1875 [==============================] - 4s 2ms/step - loss: 0.0123 - accuracy: 0.9961\n",
      "Epoch 23/30\n",
      "1875/1875 [==============================] - 4s 2ms/step - loss: 0.0124 - accuracy: 0.9960\n",
      "Epoch 24/30\n",
      "1875/1875 [==============================] - 4s 2ms/step - loss: 0.0130 - accuracy: 0.9958\n",
      "Epoch 25/30\n",
      "1875/1875 [==============================] - 4s 2ms/step - loss: 0.0099 - accuracy: 0.9967\n",
      "Epoch 26/30\n",
      "1875/1875 [==============================] - 4s 2ms/step - loss: 0.0121 - accuracy: 0.9965\n",
      "Epoch 27/30\n",
      "1875/1875 [==============================] - 4s 2ms/step - loss: 0.0104 - accuracy: 0.9965\n",
      "Epoch 28/30\n",
      "1875/1875 [==============================] - 4s 2ms/step - loss: 0.0110 - accuracy: 0.9969\n",
      "Epoch 29/30\n",
      "1875/1875 [==============================] - 4s 2ms/step - loss: 0.0102 - accuracy: 0.9970\n",
      "Epoch 30/30\n",
      "1875/1875 [==============================] - 4s 2ms/step - loss: 0.0102 - accuracy: 0.9967\n",
      "313/313 [==============================] - 0s 1ms/step - loss: 0.1193 - accuracy: 0.9831\n"
     ]
    },
    {
     "data": {
      "text/plain": [
       "[0.11929294466972351, 0.9830999970436096]"
      ]
     },
     "execution_count": 4,
     "metadata": {},
     "output_type": "execute_result"
    }
   ],
   "source": [
    "model.compile(\n",
    "    optimizer=\"adam\", loss=\"sparse_categorical_crossentropy\", metrics=[\"accuracy\"]\n",
    ")\n",
    "\n",
    "# (비교) p.269 MLP에서는 아래처럼 구성. 정확도(accuracy)는 96.x% 정도로 약간 못하다.\n",
    "# model.compile(optimizer='rmsprop',\n",
    "#                 loss='mse',\n",
    "#                 metrics=['accuracy'])\n",
    "\n",
    "model.fit(x_train, y_train, epochs=30, workers=8, use_multiprocessing=True)\n",
    "model.evaluate(x_test, y_test)"
   ]
  },
  {
   "cell_type": "code",
   "execution_count": 5,
   "metadata": {},
   "outputs": [
    {
     "name": "stdout",
     "output_type": "stream",
     "text": [
      "Model: \"sequential\"\n",
      "_________________________________________________________________\n",
      " Layer (type)                Output Shape              Param #   \n",
      "=================================================================\n",
      " flatten (Flatten)           (None, 784)               0         \n",
      "                                                                 \n",
      " dense (Dense)               (None, 512)               401920    \n",
      "                                                                 \n",
      " dropout (Dropout)           (None, 512)               0         \n",
      "                                                                 \n",
      " dense_1 (Dense)             (None, 10)                5130      \n",
      "                                                                 \n",
      "=================================================================\n",
      "Total params: 407050 (1.55 MB)\n",
      "Trainable params: 407050 (1.55 MB)\n",
      "Non-trainable params: 0 (0.00 Byte)\n",
      "_________________________________________________________________\n",
      "INFO:tensorflow:Assets written to: mymodel\\assets\n"
     ]
    },
    {
     "name": "stderr",
     "output_type": "stream",
     "text": [
      "INFO:tensorflow:Assets written to: mymodel\\assets\n"
     ]
    }
   ],
   "source": [
    "# 모델 저장하기\n",
    "from keras.models import load_model\n",
    "import numpy as np\n",
    "\n",
    "model.summary()\n",
    "model.save(\"mymodel\")"
   ]
  },
  {
   "cell_type": "markdown",
   "metadata": {},
   "source": [
    "# Simple Example of Ensemble.\n"
   ]
  },
  {
   "cell_type": "markdown",
   "metadata": {},
   "source": [
    "## Load the required modules..\n",
    "\n",
    "### In this example using Voting classifier to implement ensemble\n"
   ]
  },
  {
   "cell_type": "code",
   "execution_count": 6,
   "metadata": {},
   "outputs": [],
   "source": [
    "# Module Import\n",
    "from sklearn.ensemble import VotingClassifier\n",
    "from sklearn.ensemble import RandomForestClassifier\n",
    "from sklearn.svm import SVC\n",
    "from sklearn.neighbors import KNeighborsClassifier\n",
    "from sklearn.ensemble import GradientBoostingClassifier\n",
    "from sklearn.metrics import accuracy_score\n",
    "from sklearn.neural_network import MLPClassifier\n",
    "from scikeras.wrappers import KerasClassifier"
   ]
  },
  {
   "cell_type": "markdown",
   "metadata": {},
   "source": [
    "### These models are non-CNN. so flatten to input\n"
   ]
  },
  {
   "cell_type": "code",
   "execution_count": 7,
   "metadata": {},
   "outputs": [],
   "source": [
    "# Reshape the images for non-CNN models\n",
    "x_train_flat = x_train.reshape((x_train.shape[0], -1))[:1000]\n",
    "x_test_flat = x_test.reshape((x_test.shape[0], -1))[:1000]"
   ]
  },
  {
   "cell_type": "code",
   "execution_count": 8,
   "metadata": {},
   "outputs": [
    {
     "data": {
      "text/plain": [
       "(1000, 784)"
      ]
     },
     "execution_count": 8,
     "metadata": {},
     "output_type": "execute_result"
    }
   ],
   "source": [
    "# Check the Shape\n",
    "x_train_flat.shape"
   ]
  },
  {
   "cell_type": "markdown",
   "metadata": {},
   "source": [
    "### Prepare each model for use in VotingClassifier"
   ]
  },
  {
   "cell_type": "code",
   "execution_count": 16,
   "metadata": {},
   "outputs": [],
   "source": [
    "# Define individual models\n",
    "rf_model = RandomForestClassifier(n_estimators=100, n_jobs=4)\n",
    "svm_model = SVC(\n",
    "    kernel=\"rbf\",\n",
    "    C=1,\n",
    "    probability=True,\n",
    ")\n",
    "knn_model = KNeighborsClassifier(n_neighbors=5, n_jobs=4)\n",
    "gb_model = GradientBoostingClassifier(\n",
    "    n_estimators=100, learning_rate=0.003, max_depth=3\n",
    ")\n",
    "mlp_model = MLPClassifier(hidden_layer_sizes=(512,), max_iter=30)\n",
    "seq_model = KerasClassifier(seq_model)"
   ]
  },
  {
   "cell_type": "markdown",
   "metadata": {},
   "source": [
    "### Create Voting Classifier with parameters"
   ]
  },
  {
   "cell_type": "code",
   "execution_count": 32,
   "metadata": {},
   "outputs": [],
   "source": [
    "# Create a voting classifier\n",
    "voting_classifier = VotingClassifier(\n",
    "    estimators=[\n",
    "        (\"random_forest\", rf_model),\n",
    "        (\"svm\", svm_model),\n",
    "        (\"knn\", knn_model),\n",
    "        (\"gradient_boosting\", gb_model),\n",
    "        (\"mlp\", mlp_model),\n",
    "    ],\n",
    "    voting=\"soft\",  # 'soft' enables probability voting, hard majority vote\n",
    "    verbose=True,\n",
    ")"
   ]
  },
  {
   "cell_type": "markdown",
   "metadata": {},
   "source": [
    "### and make Fit to Learning Process\n",
    "---\n",
    "Voting Classifier is majority classification.\n",
    "Voting Classifier is divided into two types.\n",
    "1. Hard Voting\n",
    "Generate multiple models and compare results.\n",
    "and the results of each classifier are aggregated to determine which one get the most votes\n",
    "The most voted classifier is final prediction result.\n",
    "\n",
    "2. Soft Voting\n",
    "When all classifiers used in the ensemble are capable of making probability predictions\n",
    "Averages Each prediction of classifiers and most probability is prediction result (Weight Vote)"
   ]
  },
  {
   "cell_type": "code",
   "execution_count": 33,
   "metadata": {},
   "outputs": [
    {
     "name": "stdout",
     "output_type": "stream",
     "text": [
      "[Voting] ............ (1 of 5) Processing random_forest, total=   0.2s\n",
      "[Voting] ...................... (2 of 5) Processing svm, total=   0.6s\n",
      "[Voting] ...................... (3 of 5) Processing knn, total=   0.0s\n",
      "[Voting] ........ (4 of 5) Processing gradient_boosting, total=  40.6s\n",
      "[Voting] ...................... (5 of 5) Processing mlp, total=   1.7s\n"
     ]
    },
    {
     "name": "stderr",
     "output_type": "stream",
     "text": [
      "c:\\Users\\PINEAPPLE\\anaconda3\\envs\\tf\\lib\\site-packages\\sklearn\\neural_network\\_multilayer_perceptron.py:691: ConvergenceWarning: Stochastic Optimizer: Maximum iterations (30) reached and the optimization hasn't converged yet.\n",
      "  warnings.warn(\n"
     ]
    },
    {
     "data": {
      "text/html": [
       "<style>#sk-container-id-2 {color: black;}#sk-container-id-2 pre{padding: 0;}#sk-container-id-2 div.sk-toggleable {background-color: white;}#sk-container-id-2 label.sk-toggleable__label {cursor: pointer;display: block;width: 100%;margin-bottom: 0;padding: 0.3em;box-sizing: border-box;text-align: center;}#sk-container-id-2 label.sk-toggleable__label-arrow:before {content: \"▸\";float: left;margin-right: 0.25em;color: #696969;}#sk-container-id-2 label.sk-toggleable__label-arrow:hover:before {color: black;}#sk-container-id-2 div.sk-estimator:hover label.sk-toggleable__label-arrow:before {color: black;}#sk-container-id-2 div.sk-toggleable__content {max-height: 0;max-width: 0;overflow: hidden;text-align: left;background-color: #f0f8ff;}#sk-container-id-2 div.sk-toggleable__content pre {margin: 0.2em;color: black;border-radius: 0.25em;background-color: #f0f8ff;}#sk-container-id-2 input.sk-toggleable__control:checked~div.sk-toggleable__content {max-height: 200px;max-width: 100%;overflow: auto;}#sk-container-id-2 input.sk-toggleable__control:checked~label.sk-toggleable__label-arrow:before {content: \"▾\";}#sk-container-id-2 div.sk-estimator input.sk-toggleable__control:checked~label.sk-toggleable__label {background-color: #d4ebff;}#sk-container-id-2 div.sk-label input.sk-toggleable__control:checked~label.sk-toggleable__label {background-color: #d4ebff;}#sk-container-id-2 input.sk-hidden--visually {border: 0;clip: rect(1px 1px 1px 1px);clip: rect(1px, 1px, 1px, 1px);height: 1px;margin: -1px;overflow: hidden;padding: 0;position: absolute;width: 1px;}#sk-container-id-2 div.sk-estimator {font-family: monospace;background-color: #f0f8ff;border: 1px dotted black;border-radius: 0.25em;box-sizing: border-box;margin-bottom: 0.5em;}#sk-container-id-2 div.sk-estimator:hover {background-color: #d4ebff;}#sk-container-id-2 div.sk-parallel-item::after {content: \"\";width: 100%;border-bottom: 1px solid gray;flex-grow: 1;}#sk-container-id-2 div.sk-label:hover label.sk-toggleable__label {background-color: #d4ebff;}#sk-container-id-2 div.sk-serial::before {content: \"\";position: absolute;border-left: 1px solid gray;box-sizing: border-box;top: 0;bottom: 0;left: 50%;z-index: 0;}#sk-container-id-2 div.sk-serial {display: flex;flex-direction: column;align-items: center;background-color: white;padding-right: 0.2em;padding-left: 0.2em;position: relative;}#sk-container-id-2 div.sk-item {position: relative;z-index: 1;}#sk-container-id-2 div.sk-parallel {display: flex;align-items: stretch;justify-content: center;background-color: white;position: relative;}#sk-container-id-2 div.sk-item::before, #sk-container-id-2 div.sk-parallel-item::before {content: \"\";position: absolute;border-left: 1px solid gray;box-sizing: border-box;top: 0;bottom: 0;left: 50%;z-index: -1;}#sk-container-id-2 div.sk-parallel-item {display: flex;flex-direction: column;z-index: 1;position: relative;background-color: white;}#sk-container-id-2 div.sk-parallel-item:first-child::after {align-self: flex-end;width: 50%;}#sk-container-id-2 div.sk-parallel-item:last-child::after {align-self: flex-start;width: 50%;}#sk-container-id-2 div.sk-parallel-item:only-child::after {width: 0;}#sk-container-id-2 div.sk-dashed-wrapped {border: 1px dashed gray;margin: 0 0.4em 0.5em 0.4em;box-sizing: border-box;padding-bottom: 0.4em;background-color: white;}#sk-container-id-2 div.sk-label label {font-family: monospace;font-weight: bold;display: inline-block;line-height: 1.2em;}#sk-container-id-2 div.sk-label-container {text-align: center;}#sk-container-id-2 div.sk-container {/* jupyter's `normalize.less` sets `[hidden] { display: none; }` but bootstrap.min.css set `[hidden] { display: none !important; }` so we also need the `!important` here to be able to override the default hidden behavior on the sphinx rendered scikit-learn.org. See: https://github.com/scikit-learn/scikit-learn/issues/21755 */display: inline-block !important;position: relative;}#sk-container-id-2 div.sk-text-repr-fallback {display: none;}</style><div id=\"sk-container-id-2\" class=\"sk-top-container\"><div class=\"sk-text-repr-fallback\"><pre>VotingClassifier(estimators=[(&#x27;random_forest&#x27;,\n",
       "                              RandomForestClassifier(n_jobs=4)),\n",
       "                             (&#x27;svm&#x27;, SVC(C=1, probability=True)),\n",
       "                             (&#x27;knn&#x27;, KNeighborsClassifier(n_jobs=4)),\n",
       "                             (&#x27;gradient_boosting&#x27;,\n",
       "                              GradientBoostingClassifier(learning_rate=0.003)),\n",
       "                             (&#x27;mlp&#x27;,\n",
       "                              MLPClassifier(hidden_layer_sizes=(512,),\n",
       "                                            max_iter=30))],\n",
       "                 verbose=True, voting=&#x27;soft&#x27;)</pre><b>In a Jupyter environment, please rerun this cell to show the HTML representation or trust the notebook. <br />On GitHub, the HTML representation is unable to render, please try loading this page with nbviewer.org.</b></div><div class=\"sk-container\" hidden><div class=\"sk-item sk-dashed-wrapped\"><div class=\"sk-label-container\"><div class=\"sk-label sk-toggleable\"><input class=\"sk-toggleable__control sk-hidden--visually\" id=\"sk-estimator-id-8\" type=\"checkbox\" ><label for=\"sk-estimator-id-8\" class=\"sk-toggleable__label sk-toggleable__label-arrow\">VotingClassifier</label><div class=\"sk-toggleable__content\"><pre>VotingClassifier(estimators=[(&#x27;random_forest&#x27;,\n",
       "                              RandomForestClassifier(n_jobs=4)),\n",
       "                             (&#x27;svm&#x27;, SVC(C=1, probability=True)),\n",
       "                             (&#x27;knn&#x27;, KNeighborsClassifier(n_jobs=4)),\n",
       "                             (&#x27;gradient_boosting&#x27;,\n",
       "                              GradientBoostingClassifier(learning_rate=0.003)),\n",
       "                             (&#x27;mlp&#x27;,\n",
       "                              MLPClassifier(hidden_layer_sizes=(512,),\n",
       "                                            max_iter=30))],\n",
       "                 verbose=True, voting=&#x27;soft&#x27;)</pre></div></div></div><div class=\"sk-parallel\"><div class=\"sk-parallel-item\"><div class=\"sk-item\"><div class=\"sk-label-container\"><div class=\"sk-label sk-toggleable\"><label>random_forest</label></div></div><div class=\"sk-serial\"><div class=\"sk-item\"><div class=\"sk-estimator sk-toggleable\"><input class=\"sk-toggleable__control sk-hidden--visually\" id=\"sk-estimator-id-9\" type=\"checkbox\" ><label for=\"sk-estimator-id-9\" class=\"sk-toggleable__label sk-toggleable__label-arrow\">RandomForestClassifier</label><div class=\"sk-toggleable__content\"><pre>RandomForestClassifier(n_jobs=4)</pre></div></div></div></div></div></div><div class=\"sk-parallel-item\"><div class=\"sk-item\"><div class=\"sk-label-container\"><div class=\"sk-label sk-toggleable\"><label>svm</label></div></div><div class=\"sk-serial\"><div class=\"sk-item\"><div class=\"sk-estimator sk-toggleable\"><input class=\"sk-toggleable__control sk-hidden--visually\" id=\"sk-estimator-id-10\" type=\"checkbox\" ><label for=\"sk-estimator-id-10\" class=\"sk-toggleable__label sk-toggleable__label-arrow\">SVC</label><div class=\"sk-toggleable__content\"><pre>SVC(C=1, probability=True)</pre></div></div></div></div></div></div><div class=\"sk-parallel-item\"><div class=\"sk-item\"><div class=\"sk-label-container\"><div class=\"sk-label sk-toggleable\"><label>knn</label></div></div><div class=\"sk-serial\"><div class=\"sk-item\"><div class=\"sk-estimator sk-toggleable\"><input class=\"sk-toggleable__control sk-hidden--visually\" id=\"sk-estimator-id-11\" type=\"checkbox\" ><label for=\"sk-estimator-id-11\" class=\"sk-toggleable__label sk-toggleable__label-arrow\">KNeighborsClassifier</label><div class=\"sk-toggleable__content\"><pre>KNeighborsClassifier(n_jobs=4)</pre></div></div></div></div></div></div><div class=\"sk-parallel-item\"><div class=\"sk-item\"><div class=\"sk-label-container\"><div class=\"sk-label sk-toggleable\"><label>gradient_boosting</label></div></div><div class=\"sk-serial\"><div class=\"sk-item\"><div class=\"sk-estimator sk-toggleable\"><input class=\"sk-toggleable__control sk-hidden--visually\" id=\"sk-estimator-id-12\" type=\"checkbox\" ><label for=\"sk-estimator-id-12\" class=\"sk-toggleable__label sk-toggleable__label-arrow\">GradientBoostingClassifier</label><div class=\"sk-toggleable__content\"><pre>GradientBoostingClassifier(learning_rate=0.003)</pre></div></div></div></div></div></div><div class=\"sk-parallel-item\"><div class=\"sk-item\"><div class=\"sk-label-container\"><div class=\"sk-label sk-toggleable\"><label>mlp</label></div></div><div class=\"sk-serial\"><div class=\"sk-item\"><div class=\"sk-estimator sk-toggleable\"><input class=\"sk-toggleable__control sk-hidden--visually\" id=\"sk-estimator-id-13\" type=\"checkbox\" ><label for=\"sk-estimator-id-13\" class=\"sk-toggleable__label sk-toggleable__label-arrow\">MLPClassifier</label><div class=\"sk-toggleable__content\"><pre>MLPClassifier(hidden_layer_sizes=(512,), max_iter=30)</pre></div></div></div></div></div></div></div></div></div></div>"
      ],
      "text/plain": [
       "VotingClassifier(estimators=[('random_forest',\n",
       "                              RandomForestClassifier(n_jobs=4)),\n",
       "                             ('svm', SVC(C=1, probability=True)),\n",
       "                             ('knn', KNeighborsClassifier(n_jobs=4)),\n",
       "                             ('gradient_boosting',\n",
       "                              GradientBoostingClassifier(learning_rate=0.003)),\n",
       "                             ('mlp',\n",
       "                              MLPClassifier(hidden_layer_sizes=(512,),\n",
       "                                            max_iter=30))],\n",
       "                 verbose=True, voting='soft')"
      ]
     },
     "execution_count": 33,
     "metadata": {},
     "output_type": "execute_result"
    }
   ],
   "source": [
    "# Fit the ensemble model\n",
    "voting_classifier.fit(\n",
    "    x_train_flat,\n",
    "    y_train[:1000],\n",
    ")"
   ]
  },
  {
   "cell_type": "markdown",
   "metadata": {},
   "source": [
    "### Evaluate the classifier"
   ]
  },
  {
   "cell_type": "code",
   "execution_count": 34,
   "metadata": {},
   "outputs": [
    {
     "name": "stdout",
     "output_type": "stream",
     "text": [
      "Ensemble Accuracy: 0.879\n"
     ]
    }
   ],
   "source": [
    "# Predict and evaluate\n",
    "y_pred_Voting = voting_classifier.predict(x_test_flat)\n",
    "accuracy = accuracy_score(y_test[:1000], y_pred_Voting)\n",
    "print(f\"Ensemble Accuracy: {accuracy}\")"
   ]
  },
  {
   "cell_type": "markdown",
   "metadata": {},
   "source": [
    "### load the test image"
   ]
  },
  {
   "cell_type": "code",
   "execution_count": 35,
   "metadata": {},
   "outputs": [],
   "source": [
    "import cv2"
   ]
  },
  {
   "cell_type": "code",
   "execution_count": 36,
   "metadata": {},
   "outputs": [],
   "source": [
    "img = cv2.imread(\"4.jpg\", cv2.IMREAD_GRAYSCALE)\n",
    "\n",
    "# Normalize\n",
    "img = cv2.resize(img, (28, 28))\n",
    "img = img.astype(\"float32\")\n",
    "img = 255 - img\n",
    "img = img / 255.0  # 픽셀값을 0.0과 1.0 사이의 값으로 변환(정규화)\n",
    "\n",
    "# 1D Flatten\n",
    "img_flat = img.reshape((1, -1))"
   ]
  },
  {
   "cell_type": "markdown",
   "metadata": {},
   "source": [
    "### make fit each model to get probability result"
   ]
  },
  {
   "cell_type": "code",
   "execution_count": 37,
   "metadata": {},
   "outputs": [
    {
     "name": "stderr",
     "output_type": "stream",
     "text": [
      "c:\\Users\\PINEAPPLE\\anaconda3\\envs\\tf\\lib\\site-packages\\sklearn\\neural_network\\_multilayer_perceptron.py:691: ConvergenceWarning: Stochastic Optimizer: Maximum iterations (30) reached and the optimization hasn't converged yet.\n",
      "  warnings.warn(\n"
     ]
    }
   ],
   "source": [
    "# Train each model\n",
    "rf_model.fit(x_train_flat, y_train[:1000])\n",
    "svm_model.fit(x_train_flat, y_train[:1000])\n",
    "knn_model.fit(x_train_flat, y_train[:1000])\n",
    "gb_model.fit(x_train_flat, y_train[:1000])\n",
    "mlp_model.fit(x_train_flat, y_train[:1000])\n",
    "\n",
    "# Print each model prediction\n",
    "rf_single_proba = rf_model.predict_proba(img_flat)\n",
    "svm_single_proba = svm_model.predict_proba(img_flat)\n",
    "knn_single_proba = knn_model.predict_proba(img_flat)\n",
    "gb_single_proba = gb_model.predict_proba(img_flat)\n",
    "mlp_single_proba = mlp_model.predict_proba(img_flat)"
   ]
  },
  {
   "cell_type": "markdown",
   "metadata": {},
   "source": [
    "### Print each results"
   ]
  },
  {
   "cell_type": "code",
   "execution_count": 41,
   "metadata": {},
   "outputs": [
    {
     "name": "stdout",
     "output_type": "stream",
     "text": [
      "Predict: \n",
      "[4]\n",
      "Prediction precentage : \n",
      "[0.02087945 0.22555779 0.07061357 0.03069072 0.2578912  0.05627304\n",
      " 0.07283908 0.17475964 0.03166461 0.05883091], 4\n",
      "Random Forest 모델의 예측 확률:\n",
      "[0.03 0.08 0.06 0.07 0.21 0.11 0.16 0.14 0.06 0.08], 4\n",
      "SVM 모델의 예측 확률:\n",
      "[0.00550762 0.10542434 0.06095543 0.01847058 0.42688701 0.04528446\n",
      " 0.06205485 0.20100799 0.01795279 0.05645493], 4\n",
      "KNN 모델의 예측 확률:\n",
      "[0.  0.8 0.  0.  0.2 0.  0.  0.  0.  0. ], 1\n",
      "Gradient Boosting 모델의 예측 확률:\n",
      "[0.06497336 0.07883952 0.07420977 0.06861575 0.08023411 0.07411198\n",
      " 0.06294605 0.36332181 0.06078363 0.07196402], 7\n",
      "MLP 모델의 예측 확률:\n",
      "[0.00166775 0.06175921 0.09861113 0.01489627 0.45772438 0.02289608\n",
      " 0.19047354 0.08776034 0.01422777 0.04998352], 4\n"
     ]
    }
   ],
   "source": [
    "# Predict and evaluate\n",
    "ensemble_Voting = voting_classifier.predict(img_flat)\n",
    "ensemble_Voting_proba = voting_classifier.predict_proba(img_flat)\n",
    "\n",
    "print(f\"Predict: \\n{ensemble_Voting}\")\n",
    "print(\n",
    "    f\"Prediction precentage : \\n{ensemble_Voting_proba[0]}, {np.argmax(ensemble_Voting_proba[0])}\")\n",
    "\n",
    "print(\n",
    "    f\"Random Forest 모델의 예측 확률:\\n{rf_single_proba[0]}, {np.argmax(rf_single_proba[0])}\")\n",
    "print(\n",
    "    f\"SVM 모델의 예측 확률:\\n{svm_single_proba[0]}, {np.argmax(svm_single_proba[0])}\")\n",
    "print(\n",
    "    f\"KNN 모델의 예측 확률:\\n{knn_single_proba[0]}, {np.argmax(knn_single_proba[0])}\")\n",
    "print(\n",
    "    f\"Gradient Boosting 모델의 예측 확률:\\n{gb_single_proba[0]}, {np.argmax(gb_single_proba[0])}\")\n",
    "print(\n",
    "    f\"MLP 모델의 예측 확률:\\n{mlp_single_proba[0]}, {np.argmax(mlp_single_proba[0])}\")"
   ]
  }
 ],
 "metadata": {
  "kernelspec": {
   "display_name": "my_tensorflow",
   "language": "python",
   "name": "python3"
  },
  "language_info": {
   "codemirror_mode": {
    "name": "ipython",
    "version": 3
   },
   "file_extension": ".py",
   "mimetype": "text/x-python",
   "name": "python",
   "nbconvert_exporter": "python",
   "pygments_lexer": "ipython3",
   "version": "3.10.13"
  },
  "orig_nbformat": 4
 },
 "nbformat": 4,
 "nbformat_minor": 2
}
